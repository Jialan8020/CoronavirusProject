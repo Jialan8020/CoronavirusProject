{
  "nbformat": 4,
  "nbformat_minor": 0,
  "metadata": {
    "colab": {
      "name": "Assignment6",
      "provenance": [],
      "private_outputs": true,
      "toc_visible": true,
      "authorship_tag": "ABX9TyMPwrbP2qjAKCLHC8c7uttD",
      "include_colab_link": true
    },
    "kernelspec": {
      "name": "python3",
      "display_name": "Python 3"
    }
  },
  "cells": [
    {
      "cell_type": "markdown",
      "metadata": {
        "id": "view-in-github",
        "colab_type": "text"
      },
      "source": [
        "<a href=\"https://colab.research.google.com/github/Jialan8020/CoronavirusProject/blob/master/Assignment6.ipynb\" target=\"_parent\"><img src=\"https://colab.research.google.com/assets/colab-badge.svg\" alt=\"Open In Colab\"/></a>"
      ]
    },
    {
      "cell_type": "markdown",
      "metadata": {
        "id": "WkiHs3Assil6",
        "colab_type": "text"
      },
      "source": [
        "# Assignment 6\n",
        "##Jialan Ma\n",
        "\n",
        "**R markdown**\n",
        "* *Question 1*\n",
        "\n",
        "  The optimal `mu` is `1.48`\n",
        "* *Question 2*\n",
        "\n",
        "  `beta0 = -0.46`\n",
        "\n",
        "  `beta1 = 0.076`\n",
        "\n",
        "  Coefficients:\n",
        "            \n",
        "              Estimate Std. Error    t value Pr(>|t|)    \n",
        "\n",
        "  Intercept \n",
        "              -4.643e-01  3.854e-17 -1.205e+16   <2e-16 \n",
        "\n",
        "  bmi         \n",
        "              7.649e-02  1.347e-18  5.679e+16   <2e-16 \n",
        "\n",
        "\n",
        "* *Question 3*\n",
        "\n",
        "  When `bmi = 30`, `predicted rdi = 5.24`\n",
        "\n",
        "* *Question 4*\n",
        "\n",
        "  The mean `mu` is the value that minimizes the squares difference (the sum of the distances between true x values and `mu`)\n",
        "\n",
        "  The intercept is the value of rdi when bmi is equal to 0\n",
        "  \n",
        "\n",
        "\n",
        "**Python**\n",
        "\n",
        "* *Question 1*\n",
        "\n",
        "  `beta0 = -0.48`\n",
        "\n",
        "  `beta1 = 0.077`\n",
        "\n",
        "  LinregressResult:\n",
        "  \n",
        "  `slope=0.07715632915480321`\n",
        "\n",
        "  `intercept=-0.4874336795088414`\n",
        "\n",
        "  `rvalue=0.3718428920438583`\n",
        "\n",
        "  `pvalue=4.56263973277768e-142`\n",
        "  \n",
        "  `stderr=0.002927890124634982`\n",
        "\n",
        "* *Question 2*\n",
        "\n",
        "  When `bmi = 30`, `predicted rdi = 5.24`"
      ]
    },
    {
      "cell_type": "code",
      "metadata": {
        "id": "v3cfwWmTHBP4",
        "colab_type": "code",
        "colab": {}
      },
      "source": [
        "import numpy as np\n",
        "from scipy import stats as st\n",
        "import pandas as pd\n",
        "import seaborn as sns\n",
        "import matplotlib.pyplot as plt\n",
        "from sklearn.linear_model import LinearRegression\n",
        "sns.set()"
      ],
      "execution_count": 0,
      "outputs": []
    },
    {
      "cell_type": "code",
      "metadata": {
        "id": "DuGc2lNCigkH",
        "colab_type": "code",
        "colab": {}
      },
      "source": [
        "data = pd.read_csv(\"shhs1.txt\", sep = \"\\t\")\n",
        "df = data[[\"rdi4p\", \"bmi_s1\"]]\n",
        "df"
      ],
      "execution_count": 0,
      "outputs": []
    },
    {
      "cell_type": "code",
      "metadata": {
        "id": "L5MXvm4njQA6",
        "colab_type": "code",
        "colab": {}
      },
      "source": [
        "x = df[\"bmi_s1\"]\n",
        "y = df[\"rdi4p\"]\n",
        "# Fill NA values with mean value of the rest of the data\n",
        "x = x.fillna(x.mean())\n",
        "y = y.fillna(y.mean())\n",
        "trainFraction = 0.75\n",
        "\n",
        "# Hold out data\n",
        "sample = np.random.uniform(size = len(x)) < trainFraction\n",
        "xtrain = x[ sample]\n",
        "ytrain = y[ sample]\n",
        "ytrain_log = np.log(ytrain + 1)\n",
        "xtest =  x[~sample]\n",
        "ytest =  y[~sample]\n",
        "ytest_log = np.log(ytest + 1)\n",
        "\n",
        "\n",
        "# get the slope on the training data\n",
        "beta1_log = st.pearsonr(xtrain, ytrain_log)[0] * np.std(ytrain_log) / np.std(xtrain)\n",
        "beta0_log = np.mean(ytrain_log) - np.mean(xtrain) * beta1_log\n",
        "print([beta0_log, beta1_log])\n",
        "\n",
        "sns.scatterplot(xtrain, ytrain_log)\n",
        "## add a line\n",
        "sns.lineplot(xtrain, beta0_log + beta1_log * xtrain)\n",
        "\n",
        "# predict rdi when bmi = 30\n",
        "bmi30 = 30\n",
        "predict_30_log = beta0_log + beta1_log * bmi30\n",
        "predict_30 = np.exp(predict_30_log) - 1\n",
        "print(predict_30)"
      ],
      "execution_count": 0,
      "outputs": []
    },
    {
      "cell_type": "code",
      "metadata": {
        "id": "XpPKF31elR-9",
        "colab_type": "code",
        "colab": {}
      },
      "source": [
        "print(st.linregress(x = xtrain, y = ytrain_log))"
      ],
      "execution_count": 0,
      "outputs": []
    }
  ]
}